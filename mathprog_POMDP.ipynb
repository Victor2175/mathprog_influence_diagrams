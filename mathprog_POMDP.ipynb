{
 "cells": [
  {
   "cell_type": "code",
   "execution_count": 28,
   "metadata": {},
   "outputs": [
    {
     "data": {
      "text/plain": [
       "createFolder (generic function with 1 method)"
      ]
     },
     "execution_count": 28,
     "metadata": {},
     "output_type": "execute_result"
    }
   ],
   "source": [
    "using Printf\n",
    "using CPUTime\n",
    "include(\"model_POMDP.jl\")\n",
    "include(\"parser.jl\")\n",
    "include(\"spu_POMDP.jl\")\n",
    "using Gurobi\n",
    "\n",
    "function createFolder(directory)\n",
    "    try\n",
    "        if isdir(directory) == false\n",
    "            mkdir(directory)\n",
    "        end\n",
    "    catch\n",
    "        println(string(\"Error:Creating directory \", directory))\n",
    "    end\n",
    "end"
   ]
  },
  {
   "cell_type": "markdown",
   "metadata": {},
   "source": [
    "# Draw randomly the parameters of the influence diagram"
   ]
  },
  {
   "cell_type": "code",
   "execution_count": 29,
   "metadata": {},
   "outputs": [
    {
     "name": "stdout",
     "output_type": "stream",
     "text": [
      "================================ Draw parameters =========================================\n",
      "================================ Done =========================================\n"
     ]
    }
   ],
   "source": [
    "@printf \"================================ Draw parameters =========================================\\n\"\n",
    "T = 5\n",
    "S = 1:4\n",
    "O = 1:4\n",
    "A = 1:4\n",
    "\n",
    "#p_init(s) = P(S_1=s)\n",
    "p_init = rand(length(S))\n",
    "p_init = p_init ./ sum(p_init)\n",
    "\n",
    "#p_trans(s',a,s) = P(S_{t+1} = s' |  S_t = s, A_t=s)\n",
    "p_trans = rand(length(S),length(A),length(S))\n",
    "p_trans = p_trans ./ sum(p_trans,dims=3)\n",
    "\n",
    "# # p_o(o,s) = P(O_t = o | S_t =s)\n",
    "p_emis = rand(length(S),length(O))\n",
    "p_emis = p_emis ./ sum(p_emis,dims=2)\n",
    "\n",
    "#reward(s,a,s') = r(S_t=s, A_t=a, S_{t+1}=s')\n",
    "reward = 10*rand(length(S),length(A), length(S))\n",
    "@printf \"================================ Done =========================================\\n\""
   ]
  },
  {
   "cell_type": "markdown",
   "metadata": {},
   "source": [
    "# Preprocessing of cut probabilities"
   ]
  },
  {
   "cell_type": "code",
   "execution_count": 30,
   "metadata": {},
   "outputs": [
    {
     "name": "stdout",
     "output_type": "stream",
     "text": [
      "================== Compute probabilities for valid cuts =======================\n",
      "================================ Done =========================================\n"
     ]
    }
   ],
   "source": [
    "@printf \"================== Compute probabilities for valid cuts =======================\\n\"\n",
    "#p(s_{t}|s_{t-1}a_{t-1}o_t)\n",
    "p_cuts = zeros(length(S),length(A),length(S), length(O))\n",
    "\n",
    "for s in S, a in A, ss in S, oo in O\n",
    "    if sum(p_trans[s,a,sss]*p_emis[sss,oo] for sss in S) == 0\n",
    "\tp_cuts[s,a,ss,oo] = 0\n",
    "    else\n",
    "    \tp_cuts[s,a,ss,oo] = (p_trans[s,a,ss]*p_emis[ss,oo])/(sum(p_trans[s,a,sss]*p_emis[sss,oo] for sss in S))\n",
    "    end\n",
    "end\n",
    "@printf \"================================ Done =========================================\\n\""
   ]
  },
  {
   "cell_type": "markdown",
   "metadata": {},
   "source": [
    "# Run SPU algorithm"
   ]
  },
  {
   "cell_type": "code",
   "execution_count": 31,
   "metadata": {},
   "outputs": [
    {
     "name": "stdout",
     "output_type": "stream",
     "text": [
      "================================ SPU algorithm =========================================\n",
      "=============Cycle 0==================\n",
      "=============Cycle 1==================\n",
      "  1.246745 seconds (2.12 M allocations: 100.793 MiB, 3.26% gc time)\n",
      "================================ Done =========================================\n"
     ]
    }
   ],
   "source": [
    "#############################SPU algorithm##################################\n",
    "@printf \"================================ SPU algorithm =========================================\\n\"\n",
    "@time SPU_Time = SPU_obj, SPU_delta, iterations = SPU_algorithm(T,S,O,A,p_init,p_emis,p_trans,reward)\n",
    "SPU_delta,μ_s,μ_sa,μ_soa,μ_sasoa = potential_warmstart_cuts(T,S,O,A,p_init,p_emis,p_trans,SPU_delta)\n",
    "@printf \"================================ Done =========================================\\n\""
   ]
  },
  {
   "cell_type": "markdown",
   "metadata": {},
   "source": [
    "# Solve MILP on Polytope $\\overline{\\mathcal{Q}}^1$"
   ]
  },
  {
   "cell_type": "code",
   "execution_count": 32,
   "metadata": {},
   "outputs": [
    {
     "name": "stdout",
     "output_type": "stream",
     "text": [
      "============================ Solve the MILP and its relaxation ===============================\n",
      "Academic license - for non-commercial use only\n",
      "Academic license - for non-commercial use only\n",
      "============================ Done ===============================\n"
     ]
    }
   ],
   "source": [
    "#############################Polytope Q^1####################################\n",
    "@printf \"============================ Solve the MILP and its relaxation ===============================\\n\"\n",
    "#Define the bounds b in McCormick inequalities\n",
    "#b=1\n",
    "bounds = ones(T,length(S),length(O))\n",
    "\n",
    "#Solve the relaxation\n",
    "m = model(T,S,O,A,p_init,p_trans,p_emis,reward,bounds)\n",
    "m_lp = relax_model(m)\n",
    "optimize!(m_lp)\n",
    "milp_obj_p1_relax = objective_value(m_lp)\n",
    "\n",
    "#Solve the MILP\n",
    "m = model(T,S,O,A,p_init,p_trans,p_emis,reward,bounds)\n",
    "m = set_initial_solution(m,T,S,O,A,SPU_delta,μ_s,μ_sa,μ_soa,μ_sasoa)\n",
    "optimize!(m)\n",
    "\n",
    "#Set the results\n",
    "milp_time_p1 = solve_time(m)\n",
    "milp_obj_p1 = objective_value(m)\n",
    "milp_bestbound_p1 = objective_bound(m)\n",
    "milp_gap_p1 = ((milp_bestbound_p1 - milp_obj_p1)/milp_bestbound_p1)*100\n",
    "gap_p1_with_spu = ((milp_obj_p1 - SPU_obj)/SPU_obj)*100\n",
    "@printf \"============================ Done ===============================\\n\""
   ]
  },
  {
   "cell_type": "markdown",
   "metadata": {},
   "source": [
    "# Solve MILP on Polytope $\\overline{\\mathcal{Q}}^b$"
   ]
  },
  {
   "cell_type": "code",
   "execution_count": 33,
   "metadata": {},
   "outputs": [
    {
     "name": "stdout",
     "output_type": "stream",
     "text": [
      "============================ Solve the MILP and its relaxation ===============================\n",
      "Academic license - for non-commercial use only\n",
      "Academic license - for non-commercial use only\n",
      "============================ Done ===============================\n"
     ]
    }
   ],
   "source": [
    "#################################Polytope Q^b##########################\n",
    "@printf \"============================ Solve the MILP and its relaxation ===============================\\n\"\n",
    "#Define the bounds b in McCormick inequalities\n",
    "#Compute the bounds using propagation\n",
    "bounds = compute_bounds(T,S,O,A,p_init,p_trans,p_emis,reward)\n",
    "\n",
    "#Solve the relaxation\n",
    "m = model(T,S,O,A,p_init,p_trans,p_emis,reward,bounds)\n",
    "m_lp = relax_model(m)\n",
    "optimize!(m_lp)\n",
    "milp_obj_pb_relax = objective_value(m_lp)\n",
    "\n",
    "#Solve the MILP\n",
    "m = model(T,S,O,A,p_init,p_trans,p_emis,reward,bounds)\n",
    "m = set_initial_solution(m,T,S,O,A,SPU_delta,μ_s,μ_sa,μ_soa,μ_sasoa)\n",
    "optimize!(m)\n",
    "\n",
    "#Set the results\n",
    "milp_time_pb = solve_time(m)\n",
    "milp_obj_pb = objective_value(m)\n",
    "milp_bestbound_pb = objective_bound(m)\n",
    "milp_gap_pb = ((milp_bestbound_pb - milp_obj_pb)/milp_bestbound_pb)*100\n",
    "gap_pb_with_spu = ((milp_obj_pb - SPU_obj)/SPU_obj)*100\n",
    "@printf \"============================ Done ===============================\\n\""
   ]
  },
  {
   "cell_type": "markdown",
   "metadata": {},
   "source": [
    "# Solve MILP on Polytope $\\mathcal{Q}^{\\perp \\!\\!\\! \\perp,1}$"
   ]
  },
  {
   "cell_type": "code",
   "execution_count": 34,
   "metadata": {},
   "outputs": [
    {
     "name": "stdout",
     "output_type": "stream",
     "text": [
      "============================ Solve the MILP and its relaxation ===============================\n",
      "Academic license - for non-commercial use only\n",
      "Academic license - for non-commercial use only\n",
      "============================ Done ===============================\n"
     ]
    }
   ],
   "source": [
    "#################################Polytope Q^free##########################\n",
    "@printf \"============================ Solve the MILP and its relaxation ===============================\\n\"\n",
    "#Define the bounds b in McCormick inequalities\n",
    "#b=1\n",
    "bounds = ones(T,length(S),length(O))\n",
    "\n",
    "#Solve the linear relaxation\n",
    "m = model_cuts(T,S,O,A,p_init,p_trans,p_emis,p_cuts,reward,bounds)\n",
    "m_lp = relax_model(m)\n",
    "optimize!(m_lp)\n",
    "milp_obj_pfree_relax = objective_value(m_lp)\n",
    "\n",
    "#Solve the MILP\n",
    "m = model_cuts(T,S,O,A,p_init,p_trans,p_emis,p_cuts,reward,bounds)\n",
    "m = set_initial_solution_cuts(m,T,S,O,A,SPU_delta,μ_s,μ_sa,μ_soa,μ_sasoa)\n",
    "optimize!(m)\n",
    "\n",
    "#Set the results\n",
    "milp_time_pfree = solve_time(m)\n",
    "milp_obj_pfree = objective_value(m)\n",
    "milp_bestbound_pfree = objective_bound(m)\n",
    "milp_gap_pfree = ((milp_bestbound_pfree-milp_obj_pfree)/milp_bestbound_pfree)*100\n",
    "gap_pfree_with_spu = ((milp_obj_pfree - SPU_obj)/SPU_obj)*100\n",
    "@printf \"============================ Done ===============================\\n\""
   ]
  },
  {
   "cell_type": "markdown",
   "metadata": {},
   "source": [
    "# Solve MILP on Polytope $\\mathcal{Q}^{\\perp \\!\\!\\! \\perp,b}$"
   ]
  },
  {
   "cell_type": "code",
   "execution_count": 35,
   "metadata": {},
   "outputs": [
    {
     "name": "stdout",
     "output_type": "stream",
     "text": [
      "===================== Solve the MILP and its relaxation ===============================\n",
      "Academic license - for non-commercial use only\n",
      "Academic license - for non-commercial use only\n",
      "============================ Done ===============================\n"
     ]
    }
   ],
   "source": [
    "#################################Polytope Q^free \\cap P^b##########################\n",
    "@printf \"===================== Solve the MILP and its relaxation ===============================\\n\"\n",
    "#Define the bounds b in McCormick inequalities\n",
    "#Compute the bounds using propagation\n",
    "bounds = compute_bounds(T,S,O,A,p_init,p_trans,p_emis,reward)\n",
    "\n",
    "#Solve the linear relaxation\n",
    "m = model_cuts(T,S,O,A,p_init,p_trans,p_emis,p_cuts,reward,bounds)\n",
    "m_lp = relax_model(m)\n",
    "optimize!(m_lp)\n",
    "milp_obj_pfree_pb_relax = objective_value(m_lp)\n",
    "\n",
    "#Solve the MILP\n",
    "m = model_cuts(T,S,O,A,p_init,p_trans,p_emis,p_cuts,reward,bounds)\n",
    "m = set_initial_solution_cuts(m,T,S,O,A,SPU_delta,μ_s,μ_sa,μ_soa,μ_sasoa)\n",
    "optimize!(m)\n",
    "\n",
    "#Set the results\n",
    "milp_time_pfree_pb = solve_time(m)\n",
    "milp_obj_pfree_pb = objective_value(m)\n",
    "milp_bestbound_pfree_pb = objective_bound(m)\n",
    "milp_gap_pfree_pb = ((milp_bestbound_pfree_pb-milp_obj_pfree_pb)/milp_bestbound_pfree_pb)*100\n",
    "gap_pfree_pb_with_spu = ((milp_obj_pfree_pb - SPU_obj)/SPU_obj)*100\n",
    "@printf \"============================ Done ===============================\\n\""
   ]
  },
  {
   "cell_type": "code",
   "execution_count": 36,
   "metadata": {},
   "outputs": [
    {
     "name": "stdout",
     "output_type": "stream",
     "text": [
      "===========================================================\n",
      "==============================================\n",
      "=============Results 5 4 4 4 ==================\n",
      "Q^1 Integrality gap : 18.703455 \n",
      "Q^1 Time : 7.233640 \n",
      "Q^1 Final gap value: 0.000000 \n",
      "Q^1 Gap with SPU: 0.000003 \n",
      " \n",
      "Q^b Integrality gap : 9.319626 \n",
      "Q^b Time : 3.229853 \n",
      "Q^b Final gap value: 0.000000 \n",
      "Q^b Gap with SPU: 0.000013 \n",
      " \n",
      "Q^free Integrality gap : 8.544173 \n",
      "Q^free Time : 3.705839 \n",
      "Q^free Final gap value: 0.000000 \n",
      "Q^free Gap with SPU: 0.000000 \n",
      " \n",
      "Q^{free,b} Integrality gap : 2.817550 \n",
      "Q^{free,b} Time : 2.002128 \n",
      "Q^{free,b} Final gap value: 0.000000 \n",
      "Q^{free,b} Gap with SPU: 0.000000 \n",
      " \n"
     ]
    }
   ],
   "source": [
    "#########################################Results##############################\n",
    "@printf \"===========================================================\\n\"\n",
    "@printf \"==============================================\\n\"\n",
    "@printf \"=============Results %.0f %.0f %.0f %.0f ==================\\n\" T length(S) length(O) length(A)\n",
    "\n",
    "@printf \"Q^1 Integrality gap : %f \\n\" (1-milp_obj_p1/milp_obj_p1_relax)*100\n",
    "@printf \"Q^1 Time : %f \\n\" milp_time_p1\n",
    "@printf \"Q^1 Final gap value: %f \\n\" milp_gap_p1\n",
    "@printf \"Q^1 Gap with SPU: %f \\n \\n\" gap_p1_with_spu\n",
    "\n",
    "@printf \"Q^b Integrality gap : %f \\n\" (1- milp_obj_pb/milp_obj_pb_relax)*100\n",
    "@printf \"Q^b Time : %f \\n\" milp_time_pb\n",
    "@printf \"Q^b Final gap value: %f \\n\" milp_gap_pb\n",
    "@printf \"Q^b Gap with SPU: %f \\n \\n\" gap_pb_with_spu\n",
    "\n",
    "\n",
    "@printf \"Q^free Integrality gap : %f \\n\" (1- milp_obj_pfree/milp_obj_pfree_relax)*100\n",
    "@printf \"Q^free Time : %f \\n\" milp_time_pfree\n",
    "@printf \"Q^free Final gap value: %f \\n\" milp_gap_pfree\n",
    "@printf \"Q^free Gap with SPU: %f \\n \\n\" gap_pfree_with_spu\n",
    "\n",
    "\n",
    "@printf \"Q^{free,b} Integrality gap : %f \\n\" (1- milp_obj_pfree_pb/milp_obj_pfree_pb_relax)*100\n",
    "@printf \"Q^{free,b} Time : %f \\n\" milp_time_pfree_pb\n",
    "@printf \"Q^{free,b} Final gap value: %f \\n\" milp_gap_pfree_pb\n",
    "@printf \"Q^{free,b} Gap with SPU: %f \\n \\n\" gap_pfree_pb_with_spu"
   ]
  }
 ],
 "metadata": {
  "kernelspec": {
   "display_name": "Julia 1.1.0",
   "language": "julia",
   "name": "julia-1.1"
  },
  "language_info": {
   "file_extension": ".jl",
   "mimetype": "application/julia",
   "name": "julia",
   "version": "1.1.0"
  }
 },
 "nbformat": 4,
 "nbformat_minor": 2
}
