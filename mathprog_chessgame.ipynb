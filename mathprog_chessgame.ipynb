{
 "cells": [
  {
   "cell_type": "code",
   "execution_count": 1,
   "metadata": {},
   "outputs": [
    {
     "data": {
      "text/plain": [
       "createFolder (generic function with 1 method)"
      ]
     },
     "execution_count": 1,
     "metadata": {},
     "output_type": "execute_result"
    }
   ],
   "source": [
    "using Printf\n",
    "using CPUTime\n",
    "include(\"model_chessgame.jl\")\n",
    "include(\"spu_chessgame.jl\")\n",
    "using Gurobi\n",
    "\n",
    "function createFolder(directory)\n",
    "    try\n",
    "        if isdir(directory) == false\n",
    "            mkdir(directory)\n",
    "        end\n",
    "    catch\n",
    "        println(string(\"Error:Creating directory \", directory))\n",
    "    end\n",
    "end"
   ]
  },
  {
   "cell_type": "markdown",
   "metadata": {},
   "source": [
    "# Draw randomly the parameters of the influence diagram"
   ]
  },
  {
   "cell_type": "code",
   "execution_count": 32,
   "metadata": {},
   "outputs": [
    {
     "data": {
      "text/plain": [
       "5-element Array{Float64,1}:\n",
       " 2.4408482341443816\n",
       " 1.4776864551359559\n",
       " 7.356373372231788 \n",
       " 7.393507961447609 \n",
       " 1.8699808972905863"
      ]
     },
     "execution_count": 32,
     "metadata": {},
     "output_type": "execute_result"
    }
   ],
   "source": [
    "#Time horizon\n",
    "T=8\n",
    "\n",
    "#S space\n",
    "S = 1:6\n",
    "\n",
    "#O space\n",
    "O = 1:4\n",
    "\n",
    "#U space\n",
    "U = 1:3\n",
    "\n",
    "#A space\n",
    "A = 1:4\n",
    "\n",
    "#V space\n",
    "V = 1:5\n",
    "\n",
    "#p_init(s) = P(S_1=s)\n",
    "p_init_s = rand(length(S))\n",
    "p_init_s = p_init_s ./ sum(p_init_s)\n",
    "\n",
    "#p_trans(s,v,s') = P(S_{t+1} = s' |  S_t = s, V_t = v)\n",
    "p_trans_s = rand(length(S),length(V),length(S))\n",
    "p_trans_s = p_trans_s ./ sum(p_trans_s,dims=3)\n",
    "\n",
    "# p_trans_v(o,a,v) = P(V_t = v | O_t =o, A_t =a)\n",
    "p_trans_v = rand(length(O), length(A), length(V))\n",
    "p_trans_v = p_trans_v ./ sum(p_trans_v,dims=3)\n",
    "\n",
    "# p_emis_o(s,o) = P(O_t = o | S_t =s)\n",
    "p_emis_o = rand(length(S),length(O))\n",
    "p_emis_o = p_emis_o ./ sum(p_emis_o,dims=2)\n",
    "\n",
    "# p_emis_u(o,u) = P(U_t = u | O_t =o)\n",
    "p_emis_u = rand(length(O),length(U))\n",
    "p_emis_u = p_emis_u ./ sum(p_emis_u,dims=2)\n",
    "\n",
    "reward = 10*rand(length(V))\n",
    "#############################################################################"
   ]
  },
  {
   "cell_type": "markdown",
   "metadata": {},
   "source": [
    "# Preprocessing of cut probabilities"
   ]
  },
  {
   "cell_type": "code",
   "execution_count": 33,
   "metadata": {},
   "outputs": [],
   "source": [
    "## Compute conditional probabilities p_{o | su}\n",
    "p_cuts = zeros(length(S),length(U),length(O))\n",
    "for s in S, u in U, o in O\n",
    "\tif sum(p_emis_o[s,oo]*p_emis_u[oo,u] for oo in O) == 0\n",
    "\t\tp_cuts[s,u,o] = 0\n",
    "\telse \n",
    "\t\tp_cuts[s,u,o] = (p_emis_o[s,o]*p_emis_u[o,u])/(sum(p_emis_o[s,oo]*p_emis_u[oo,u] for oo in O))\n",
    "\tend\n",
    "end"
   ]
  },
  {
   "cell_type": "markdown",
   "metadata": {},
   "source": [
    "# Run SPU algorithm"
   ]
  },
  {
   "cell_type": "code",
   "execution_count": 34,
   "metadata": {},
   "outputs": [
    {
     "name": "stdout",
     "output_type": "stream",
     "text": [
      "================================ SPU algorithm =========================================\n",
      "=============Cycle 0==================\n",
      "=============Cycle 1==================\n",
      "  0.032891 seconds (355.68 k allocations: 6.748 MiB)\n",
      "=================================== Done ======================================\n"
     ]
    }
   ],
   "source": [
    "##################################SPU algorithm########\n",
    "@printf \"================================ SPU algorithm =========================================\\n\"\n",
    "@time SPU_Time = SPU_obj, delta, iterations = SPU_algorithm(T,S,O,U,A,V,p_init_s,p_trans_s,p_trans_v,p_emis_o,p_emis_u,reward)\n",
    "SPU_delta,μ_svs,μ_sv,μ_soav,μ_soa,μ_sou,μ_soua,μ_s = marginals_warmstart(T,S,O,U,A,V,delta,p_init_s,p_trans_s,p_trans_v,p_emis_o,p_emis_u,reward)\n",
    "@printf \"=================================== Done ======================================\\n\""
   ]
  },
  {
   "cell_type": "markdown",
   "metadata": {},
   "source": [
    "# Solve MILP on Polytope $\\overline{\\mathcal{Q}}^1$"
   ]
  },
  {
   "cell_type": "code",
   "execution_count": 35,
   "metadata": {},
   "outputs": [
    {
     "name": "stdout",
     "output_type": "stream",
     "text": [
      "================================ Polytope Q^1 =========================================\n",
      "Academic license - for non-commercial use only\n",
      "Academic license - for non-commercial use only\n"
     ]
    },
    {
     "data": {
      "text/plain": [
       "-1.845476452014029e-14"
      ]
     },
     "execution_count": 35,
     "metadata": {},
     "output_type": "execute_result"
    }
   ],
   "source": [
    "###################Polytope Q^1#########################\n",
    "@printf \"================================ Polytope Q^1 =========================================\\n\"\n",
    "#Define the bounds b in McCormick inequalities\n",
    "#b=1\t\t\t\t\n",
    "bounds = ones(T,length(S), length(O), length(U))\n",
    "\n",
    "#Solve the linear relaxation\n",
    "m = model(T,S,O,U,A,V,p_init_s,p_trans_s,p_trans_v,p_emis_o,p_emis_u,reward,bounds)\n",
    "m_lp = relax_model(m)\n",
    "optimize!(m_lp)\n",
    "milp_obj_p1_relax = objective_value(m_lp)\n",
    "\n",
    "#Solve the MILP\n",
    "m = model(T,S,O,U,A,V,p_init_s,p_trans_s,p_trans_v,p_emis_o,p_emis_u,reward,bounds)\n",
    "m = set_initial_solution(m,T,S,O,U,A,V,SPU_delta,μ_svs,μ_sv,μ_soav,μ_soa,μ_sou,μ_soua,μ_s)\n",
    "optimize!(m)\n",
    "\n",
    "#Set the results_\n",
    "milp_time_p1 = solve_time(m)\n",
    "milp_obj_p1 = objective_value(m)\n",
    "milp_bestbound_p1 = objective_bound(m)\n",
    "milp_gap_p1 = ((milp_bestbound_p1 - milp_obj_p1)/milp_bestbound_p1)*100\n",
    "gap_p1_with_spu = ((milp_obj_p1 - SPU_obj)/SPU_obj)*100"
   ]
  },
  {
   "cell_type": "markdown",
   "metadata": {},
   "source": [
    "# Solve MILP on Polytope $\\overline{\\mathcal{Q}}^b$"
   ]
  },
  {
   "cell_type": "code",
   "execution_count": 36,
   "metadata": {},
   "outputs": [
    {
     "name": "stdout",
     "output_type": "stream",
     "text": [
      "================================ Polytope Q^b =========================================\n",
      "Academic license - for non-commercial use only\n",
      "Academic license - for non-commercial use only\n"
     ]
    },
    {
     "data": {
      "text/plain": [
       "-1.845476452014029e-14"
      ]
     },
     "execution_count": 36,
     "metadata": {},
     "output_type": "execute_result"
    }
   ],
   "source": [
    "###################Polytope Q^b#########################\n",
    "@printf \"================================ Polytope Q^b =========================================\\n\"\n",
    "#Define the bounds b in McCormick inequalities\n",
    "#Compute the bounds using propagation\n",
    "bounds = compute_bounds(T,S,O,U,A,V,p_init_s,p_trans_s,p_trans_v,p_emis_o,p_emis_u,reward)\n",
    "\n",
    "#Solve the linear relaxation\n",
    "m = model(T,S,O,U,A,V,p_init_s,p_trans_s,p_trans_v,p_emis_o,p_emis_u,reward,bounds)\n",
    "m_lp = relax_model(m)\n",
    "optimize!(m_lp)\n",
    "milp_obj_pb_relax = objective_value(m_lp)\n",
    "\n",
    "#Solve the MILP\n",
    "m = model(T,S,O,U,A,V,p_init_s,p_trans_s,p_trans_v,p_emis_o,p_emis_u,reward,bounds)\n",
    "m = set_initial_solution(m,T,S,O,U,A,V,delta,μ_svs,μ_sv,μ_soav,μ_soa,μ_sou,μ_soua,μ_s)\n",
    "optimize!(m)\n",
    "\n",
    "\n",
    "#Set the results\n",
    "milp_time_pb = solve_time(m)\n",
    "milp_obj_pb = objective_value(m)\n",
    "milp_bestbound_pb = objective_bound(m)\n",
    "milp_gap_pb = ((milp_bestbound_pb - milp_obj_pb)/milp_bestbound_pb)*100\n",
    "gap_pb_with_spu = ((milp_obj_pb - SPU_obj)/SPU_obj)*100"
   ]
  },
  {
   "cell_type": "markdown",
   "metadata": {},
   "source": [
    "# Solve MILP on Polytope $\\mathcal{Q}^{\\perp \\!\\!\\! \\perp,1}$"
   ]
  },
  {
   "cell_type": "code",
   "execution_count": 37,
   "metadata": {},
   "outputs": [
    {
     "name": "stdout",
     "output_type": "stream",
     "text": [
      "================================ Polytope Q^{free,1} =========================================\n",
      "Academic license - for non-commercial use only\n",
      "Academic license - for non-commercial use only\n"
     ]
    },
    {
     "data": {
      "text/plain": [
       "-1.845476452014029e-14"
      ]
     },
     "execution_count": 37,
     "metadata": {},
     "output_type": "execute_result"
    }
   ],
   "source": [
    "#######################Polytope Q^{free,1}##############################################\n",
    "@printf \"================================ Polytope Q^{free,1} =========================================\\n\"\n",
    "#Define the bounds b in McCormick inequalities\n",
    "#b=1\n",
    "bounds = ones(T,length(S), length(O), length(U))\n",
    "\n",
    "#Solve the linear relaxation\n",
    "m = model_cuts(T,S,O,U,A,V,p_init_s,p_trans_s,p_trans_v,p_emis_o,p_emis_u,p_cuts,reward,bounds)\n",
    "m_lp = relax_model(m)\n",
    "optimize!(m_lp)\n",
    "milp_obj_pfree_relax = objective_value(m_lp)\n",
    "\n",
    "#Solve the MILP\n",
    "m = model_cuts(T,S,O,U,A,V,p_init_s,p_trans_s,p_trans_v,p_emis_o,p_emis_u,p_cuts,reward,bounds)\n",
    "m = set_initial_solution(m,T,S,O,U,A,V,delta,μ_svs,μ_sv,μ_soav,μ_soa,μ_sou,μ_soua,μ_s)\n",
    "optimize!(m)\n",
    "\n",
    "#Set the results_\n",
    "milp_time_pfree = solve_time(m)\n",
    "milp_obj_pfree = objective_value(m)\n",
    "milp_bestbound_pfree = objective_bound(m)\n",
    "milp_gap_pfree = ((milp_bestbound_pfree-milp_obj_pfree)/milp_bestbound_pfree)*100\n",
    "gap_pfree_with_spu = ((milp_obj_pfree - SPU_obj)/SPU_obj)*100"
   ]
  },
  {
   "cell_type": "markdown",
   "metadata": {},
   "source": [
    "# Solve MILP on Polytope $\\mathcal{Q}^{\\perp \\!\\!\\! \\perp,b}$"
   ]
  },
  {
   "cell_type": "code",
   "execution_count": 38,
   "metadata": {},
   "outputs": [
    {
     "name": "stdout",
     "output_type": "stream",
     "text": [
      "================================ Polytope Q^{free,b} =========================================\n",
      "Academic license - for non-commercial use only\n",
      "Academic license - for non-commercial use only\n"
     ]
    },
    {
     "data": {
      "text/plain": [
       "-1.845476452014029e-14"
      ]
     },
     "execution_count": 38,
     "metadata": {},
     "output_type": "execute_result"
    }
   ],
   "source": [
    "#######################Polytope Q^free \\cap Q^b##############################################\n",
    "@printf \"================================ Polytope Q^{free,b} =========================================\\n\"\n",
    "#Define the bounds b in McCormick inequalities\n",
    "#Compute the bounds using propagation\n",
    "bounds = compute_bounds(T,S,O,U,A,V,p_init_s,p_trans_s,p_trans_v,p_emis_o,p_emis_u,reward)\n",
    "\n",
    "#Solve the linear relaxation\n",
    "m = model_cuts(T,S,O,U,A,V,p_init_s,p_trans_s,p_trans_v,p_emis_o,p_emis_u,p_cuts,reward,bounds)\n",
    "m_lp = relax_model(m)\n",
    "optimize!(m_lp)\n",
    "milp_obj_pfree_pb_relax = objective_value(m_lp)\n",
    "\n",
    "#Solve the MILP\n",
    "m = model_cuts(T,S,O,U,A,V,p_init_s,p_trans_s,p_trans_v,p_emis_o,p_emis_u,p_cuts,reward,bounds)\n",
    "m = set_initial_solution(m,T,S,O,U,A,V,delta,μ_svs,μ_sv,μ_soav,μ_soa,μ_sou,μ_soua,μ_s)\n",
    "optimize!(m)\n",
    "\n",
    "#Set the results\n",
    "milp_time_pfree_pb = solve_time(m)\n",
    "milp_obj_pfree_pb = objective_value(m)\n",
    "milp_bestbound_pfree_pb = objective_bound(m)\n",
    "milp_gap_pfree_pb = ((milp_bestbound_pfree_pb-milp_obj_pfree_pb)/milp_bestbound_pfree_pb)*100\n",
    "gap_pfree_pb_with_spu = ((milp_obj_pfree_pb - SPU_obj)/SPU_obj)*100"
   ]
  },
  {
   "cell_type": "code",
   "execution_count": 39,
   "metadata": {},
   "outputs": [
    {
     "name": "stdout",
     "output_type": "stream",
     "text": [
      "============================================================================\n",
      "===================================================================\n",
      "===========================================================\n",
      "==============================================\n",
      "=============Results 8 6 4 4==================\n",
      "Q^1 Integrality gap : 1.848471 \n",
      "Q^1 Time : 1.590988 \n",
      "Q^1 Final gap value: 0.000000 \n",
      "Q^1 Gap with SPU: -0.000000 \n",
      " \n",
      "Q^b Integrality gap : 1.175010 \n",
      "Q^b Time : 2.279793 \n",
      "Q^b Final gap value: 0.000000 \n",
      "Q^b Gap with SPU: -0.000000 \n",
      " \n",
      "Q^free Integrality gap : 0.000000 \n",
      "Q^free Time : 0.137140 \n",
      "Q^free Final gap value: 0.000000 \n",
      "Q^free Gap with SPU: -0.000000 \n",
      " \n",
      "Q^{free,b} Integrality gap : 0.000000 \n",
      "Q^{free,b} Time : 0.273382 \n",
      "Q^{free,b} Final gap value: 0.000000 \n",
      "Q^{free,b} Gap with SPU: -0.000000 \n",
      " \n"
     ]
    }
   ],
   "source": [
    "#########################################Results##############################\n",
    "@printf \"============================================================================\\n\"\n",
    "@printf \"===================================================================\\n\"\n",
    "@printf \"===========================================================\\n\"\n",
    "@printf \"==============================================\\n\"\n",
    "@printf \"=============Results %.0f %.0f %.0f %.0f==================\\n\" T length(S) length(O) length(A)\n",
    "\n",
    "@printf \"Q^1 Integrality gap : %f \\n\" (1-milp_obj_p1/milp_obj_p1_relax)*100\n",
    "@printf \"Q^1 Time : %f \\n\" milp_time_p1\n",
    "@printf \"Q^1 Final gap value: %f \\n\" milp_gap_p1\n",
    "@printf \"Q^1 Gap with SPU: %f \\n \\n\" gap_p1_with_spu\n",
    "\n",
    "@printf \"Q^b Integrality gap : %f \\n\" (1- milp_obj_pb/milp_obj_pb_relax)*100\n",
    "@printf \"Q^b Time : %f \\n\" milp_time_pb\n",
    "@printf \"Q^b Final gap value: %f \\n\" milp_gap_pb\n",
    "@printf \"Q^b Gap with SPU: %f \\n \\n\" gap_pb_with_spu\n",
    "\n",
    "\n",
    "@printf \"Q^free Integrality gap : %f \\n\" (1- milp_obj_pfree/milp_obj_pfree_relax)*100\n",
    "@printf \"Q^free Time : %f \\n\" milp_time_pfree\n",
    "@printf \"Q^free Final gap value: %f \\n\" milp_gap_pfree\n",
    "@printf \"Q^free Gap with SPU: %f \\n \\n\" gap_pfree_with_spu\n",
    "\n",
    "\n",
    "@printf \"Q^{free,b} Integrality gap : %f \\n\" (1- milp_obj_pfree_pb/milp_obj_pfree_pb_relax)*100\n",
    "@printf \"Q^{free,b} Time : %f \\n\" milp_time_pfree_pb\n",
    "@printf \"Q^{free,b} Final gap value: %f \\n\" milp_gap_pfree_pb\n",
    "@printf \"Q^{free,b} Gap with SPU: %f \\n \\n\" gap_pfree_pb_with_spu"
   ]
  }
 ],
 "metadata": {
  "kernelspec": {
   "display_name": "Julia 1.1.0",
   "language": "julia",
   "name": "julia-1.1"
  },
  "language_info": {
   "file_extension": ".jl",
   "mimetype": "application/julia",
   "name": "julia",
   "version": "1.1.0"
  }
 },
 "nbformat": 4,
 "nbformat_minor": 2
}
